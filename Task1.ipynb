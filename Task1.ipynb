{
 "cells": [
  {
   "cell_type": "markdown",
   "id": "0f8d9d54",
   "metadata": {},
   "source": [
    "## Data Collection & Preparation\n",
    "### Task 1 - Data Identification & Collection:"
   ]
  },
  {
   "cell_type": "markdown",
   "id": "6457851b",
   "metadata": {},
   "source": [
    "*API used- **The Movie Db (TMDb)** <br/>\n",
    "API Link - https://developers.themoviedb.org/3*"
   ]
  },
  {
   "cell_type": "markdown",
   "id": "f0d5cf85",
   "metadata": {},
   "source": [
    "In this assignment I will collect detailed movie data from the TMDb open web API for the last 30 years. Also, I will collect the tv series data for one of the most popular shows : \"The Game of Thrones\".\n",
    "\n",
    "This notebook covers Task 1 - Data Identification and Collection. Since the API provides movie data on the basis of unique movie ids so there will be multiple API requests for these movie ids to collect sufficient data for analysis purposes."
   ]
  },
  {
   "cell_type": "code",
   "execution_count": 1,
   "id": "86504a00",
   "metadata": {},
   "outputs": [],
   "source": [
    "import json, requests, urllib\n",
    "from pathlib import Path\n",
    "from datetime import datetime\n",
    "import pandas as pd\n",
    "import matplotlib\n",
    "import matplotlib.pyplot as plt\n",
    "%matplotlib inline\n",
    "from functools import reduce\n",
    "import seaborn as sns"
   ]
  },
  {
   "cell_type": "markdown",
   "id": "57848b28",
   "metadata": {},
   "source": [
    "Settings for the API and data collection."
   ]
  },
  {
   "cell_type": "code",
   "execution_count": 61,
   "id": "ee7029a7",
   "metadata": {},
   "outputs": [],
   "source": [
    "# API Key\n",
    "api_key = \"****\"\n",
    "# Prefix for API URLs\n",
    "TMDB_Prefix = 'https://api.themoviedb.org/3'"
   ]
  },
  {
   "cell_type": "markdown",
   "id": "bddb9473",
   "metadata": {},
   "source": [
    "Create directory for raw data storage, if it does not already exist:"
   ]
  },
  {
   "cell_type": "code",
   "execution_count": 62,
   "id": "f4f34192",
   "metadata": {},
   "outputs": [],
   "source": [
    "dir_raw = Path(\"raw\")\n",
    "dir_raw.mkdir(parents=True, exist_ok=True)"
   ]
  },
  {
   "cell_type": "markdown",
   "id": "d9054eb2",
   "metadata": {},
   "source": [
    "Defining a fetch function to make the API calls for different requests."
   ]
  },
  {
   "cell_type": "code",
   "execution_count": 63,
   "id": "f25b7745",
   "metadata": {},
   "outputs": [],
   "source": [
    "def fetch(endpoint, params={}):\n",
    "    # construct the url\n",
    "    url = TMDB_Prefix\n",
    "    if not endpoint.startswith(\"/\"):\n",
    "        url += \"/\"\n",
    "    url += endpoint\n",
    "    # Passing one common parameter for all requests\n",
    "    params[\"api_key\"] = api_key\n",
    "    url += \"?\" + urllib.parse.urlencode(params)\n",
    "    print(\"Fetching %s\" % url)\n",
    "    # fetching the data\n",
    "    response = requests.get(url)\n",
    "    jdata = response.text\n",
    "    return json.loads(jdata)"
   ]
  },
  {
   "cell_type": "markdown",
   "id": "92d9474a",
   "metadata": {},
   "source": [
    "Defining a function to fetch movie ids for the specified time period"
   ]
  },
  {
   "cell_type": "code",
   "execution_count": 64,
   "id": "cb0fbab0",
   "metadata": {},
   "outputs": [],
   "source": [
    "def get_movie_ids(start, end, pages):\n",
    "    movie_ids = []\n",
    "    # Year range as specified by the user and the number of pages that are required to fetch\n",
    "    for i in range(start, end+1):\n",
    "        for j in range(1, pages+1):\n",
    "            try:\n",
    "                # Creating a list of movie ids for each year\n",
    "                discover = fetch(\"discover/movie\", {\"primary_release_year\":i,\"page\":j})\n",
    "                for r in discover[\"results\"]:\n",
    "                    movie_ids.append(r[\"id\"])\n",
    "            except:\n",
    "                break\n",
    "    return movie_ids"
   ]
  },
  {
   "cell_type": "markdown",
   "id": "244db072",
   "metadata": {},
   "source": [
    "Defining a function to fetch the movie details for the collected movie ids"
   ]
  },
  {
   "cell_type": "code",
   "execution_count": 65,
   "id": "9f3783b3",
   "metadata": {},
   "outputs": [],
   "source": [
    "def fetch_movie_details(movie_ids):\n",
    "    collection = {}\n",
    "    #movie_ids = get_movie_ids(start, end, pages)\n",
    "    for mid in movie_ids:\n",
    "        # Fetching the movie details for each of the movie ids in the passed list\n",
    "        movie_details = fetch(\"/movie/\"+str(mid), {\"language\":\"en-US\"})\n",
    "        collection[mid] = movie_details\n",
    "    return collection\n",
    "        "
   ]
  },
  {
   "cell_type": "markdown",
   "id": "c62fbba9",
   "metadata": {},
   "source": [
    "Generating a JSON dump for the movie details"
   ]
  },
  {
   "cell_type": "code",
   "execution_count": null,
   "id": "0bc10a1b",
   "metadata": {
    "scrolled": false
   },
   "outputs": [],
   "source": [
    "# Fetching the movie ids from 1992 to 2022 (30 years data)\n",
    "movie_ids = get_movie_ids(1992,2022,20)\n",
    "\n",
    "# Fetching the movie details for the generated movie id list\n",
    "collection = fetch_movie_details(movie_ids)\n",
    "\n",
    "# Generating the JSON dump for the movie data collection\n",
    "fname = \"movie_data.json\"\n",
    "out_path = dir_raw / fname\n",
    "print(\"Writing data to %s\" % out_path)\n",
    "fout = open(out_path, \"w\")\n",
    "json.dump(collection, fout, indent=4, sort_keys=True)\n",
    "fout.close()"
   ]
  },
  {
   "cell_type": "markdown",
   "id": "a88bb389",
   "metadata": {},
   "source": [
    "Defining a function to fetch data for the specified tv show and seasons. This function will also fetch the cast information and similar show details with respect to the user specified show."
   ]
  },
  {
   "cell_type": "code",
   "execution_count": 66,
   "id": "9fd29907",
   "metadata": {},
   "outputs": [],
   "source": [
    "def fetch_tvshow_details(tvshow_id, seasons):\n",
    "    show_details = {}\n",
    "    # Iterating for the user specified number of seasons\n",
    "    for season in range(1, seasons+1):\n",
    "        try:\n",
    "            fetched_details = fetch(\"/tv/\"+str(tvshow_id)+\"/season/\"+str(season), {\"language\":\"en-US\"})\n",
    "            season_name = \"season-\"+str(season)\n",
    "            show_details[season_name] = fetched_details\n",
    "        except:\n",
    "            # Break out of the loop if wrong number of seasons are specified\n",
    "            break\n",
    "    \n",
    "    # Fetching the similar show details using the API call\n",
    "    similar_show_details = fetch(\"/tv/\"+str(tvshow_id)+\"/similar\", {\"language\":\"en-US\"})\n",
    "    show_details[\"similar_show\"] = similar_show_details\n",
    "    \n",
    "    # Fetching the cast and crew details using the API call\n",
    "    show_cast_details = fetch(\"/tv/\"+str(tvshow_id)+\"/credits\", {\"language\":\"en-US\"})\n",
    "    show_details[\"show_cast\"] = show_cast_details\n",
    "    \n",
    "    return show_details"
   ]
  },
  {
   "cell_type": "markdown",
   "id": "c31e9b31",
   "metadata": {},
   "source": [
    "Generating the JSON dump for the \"GAME OF THRONES\" TV Show (All 8 Seasons)"
   ]
  },
  {
   "cell_type": "code",
   "execution_count": 68,
   "id": "4a7b9708",
   "metadata": {},
   "outputs": [
    {
     "name": "stdout",
     "output_type": "stream",
     "text": [
      "Fetching https://api.themoviedb.org/3/tv/1399/season/1?language=en-US&api_key=282d085ce6c55bda16f885af4cf4c0c0\n",
      "Fetching https://api.themoviedb.org/3/tv/1399/season/2?language=en-US&api_key=282d085ce6c55bda16f885af4cf4c0c0\n",
      "Fetching https://api.themoviedb.org/3/tv/1399/season/3?language=en-US&api_key=282d085ce6c55bda16f885af4cf4c0c0\n",
      "Fetching https://api.themoviedb.org/3/tv/1399/season/4?language=en-US&api_key=282d085ce6c55bda16f885af4cf4c0c0\n",
      "Fetching https://api.themoviedb.org/3/tv/1399/season/5?language=en-US&api_key=282d085ce6c55bda16f885af4cf4c0c0\n",
      "Fetching https://api.themoviedb.org/3/tv/1399/season/6?language=en-US&api_key=282d085ce6c55bda16f885af4cf4c0c0\n",
      "Fetching https://api.themoviedb.org/3/tv/1399/season/7?language=en-US&api_key=282d085ce6c55bda16f885af4cf4c0c0\n",
      "Fetching https://api.themoviedb.org/3/tv/1399/season/8?language=en-US&api_key=282d085ce6c55bda16f885af4cf4c0c0\n",
      "Fetching https://api.themoviedb.org/3/tv/1399/similar?language=en-US&api_key=282d085ce6c55bda16f885af4cf4c0c0\n",
      "Fetching https://api.themoviedb.org/3/tv/1399/credits?language=en-US&api_key=282d085ce6c55bda16f885af4cf4c0c0\n",
      "Writing data to raw/show_data.json\n"
     ]
    }
   ],
   "source": [
    "# Fetching the data for \"GAME OF THRONES\" TV Show\n",
    "show_details = fetch_tvshow_details(1399,8)\n",
    "\n",
    "# Generating the JSON dump for the series data collection\n",
    "fname = \"show_data.json\"\n",
    "out_path = dir_raw / fname\n",
    "print(\"Writing data to %s\" % out_path)\n",
    "fout = open(out_path, \"w\")\n",
    "json.dump(show_details, fout, indent=4, sort_keys=True)\n",
    "fout.close()"
   ]
  },
  {
   "cell_type": "markdown",
   "id": "ce83ab3f",
   "metadata": {},
   "source": [
    "Note - In this task, I have collected the necessary data by making multiple API calls and created two JSON dumps - **movie_data.json** and **show_data.json** using the TMDb API, which have been saved in the \"raw\" directory. These will be used in task 2 for further data preparation and analysis."
   ]
  }
 ],
 "metadata": {
  "kernelspec": {
   "display_name": "Python 3 (ipykernel)",
   "language": "python",
   "name": "python3"
  },
  "language_info": {
   "codemirror_mode": {
    "name": "ipython",
    "version": 3
   },
   "file_extension": ".py",
   "mimetype": "text/x-python",
   "name": "python",
   "nbconvert_exporter": "python",
   "pygments_lexer": "ipython3",
   "version": "3.10.5"
  }
 },
 "nbformat": 4,
 "nbformat_minor": 5
}
